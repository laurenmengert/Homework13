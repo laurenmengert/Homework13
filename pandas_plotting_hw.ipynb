{
 "cells": [
  {
   "cell_type": "markdown",
   "metadata": {},
   "source": [
    "<img src=\"http://imgur.com/1ZcRyrc.png\" style=\"float: left; margin: 20px; height: 55px\">\n",
    "\n",
    "## Homework: Plotting With Pandas\n",
    "\n",
    "_Authors: Kevin Coyle (L.A.)_\n",
    "\n",
    "---\n",
    "\n"
   ]
  },
  {
   "cell_type": "markdown",
   "metadata": {},
   "source": [
    "Welcome!"
   ]
  },
  {
   "cell_type": "markdown",
   "metadata": {},
   "source": [
    "#### Pandas: Plotting Practice Problems\n",
    "\n",
    "In this homework, you're going to write code for a few problems. \n",
    "\n",
    "You'll practice the following programming concepts we've covered in class:\n",
    "* Plotting with Pandas.\n",
    "* Determining best plot given a data set."
   ]
  },
  {
   "cell_type": "markdown",
   "metadata": {},
   "source": [
    "#### #1. Import Pandas, `Matplotlib.pyplot`, and NumPy. Don't forget the line that makes `matplotlib` render in a Jupyter Notebook!"
   ]
  },
  {
   "cell_type": "code",
   "execution_count": 1,
   "metadata": {},
   "outputs": [],
   "source": [
    "import pandas as pd\n",
    "import numpy as np\n",
    "import matplotlib.pyplot as plt\n",
    "\n",
    "%matplotlib inline"
   ]
  },
  {
   "cell_type": "markdown",
   "metadata": {},
   "source": [
    "#### #2. Read in the NBA players `csv` into a variable called `nba_df`."
   ]
  },
  {
   "cell_type": "markdown",
   "metadata": {},
   "source": [
    "This is a data set of NBA players from 2015. The filename is `NBA_players_2015.csv`."
   ]
  },
  {
   "cell_type": "code",
   "execution_count": 2,
   "metadata": {},
   "outputs": [],
   "source": [
    "nba_df = pd.read_csv('NBA_players_2015.csv')"
   ]
  },
  {
   "cell_type": "markdown",
   "metadata": {},
   "source": [
    "#### #3. Look at the first five rows of the data set."
   ]
  },
  {
   "cell_type": "code",
   "execution_count": 3,
   "metadata": {},
   "outputs": [
    {
     "data": {
      "text/html": [
       "<div>\n",
       "<style scoped>\n",
       "    .dataframe tbody tr th:only-of-type {\n",
       "        vertical-align: middle;\n",
       "    }\n",
       "\n",
       "    .dataframe tbody tr th {\n",
       "        vertical-align: top;\n",
       "    }\n",
       "\n",
       "    .dataframe thead th {\n",
       "        text-align: right;\n",
       "    }\n",
       "</style>\n",
       "<table border=\"1\" class=\"dataframe\">\n",
       "  <thead>\n",
       "    <tr style=\"text-align: right;\">\n",
       "      <th></th>\n",
       "      <th>season_end</th>\n",
       "      <th>player</th>\n",
       "      <th>pos</th>\n",
       "      <th>age</th>\n",
       "      <th>bref_team_id</th>\n",
       "      <th>g</th>\n",
       "      <th>gs</th>\n",
       "      <th>mp</th>\n",
       "      <th>fg</th>\n",
       "      <th>fga</th>\n",
       "      <th>...</th>\n",
       "      <th>TOV%</th>\n",
       "      <th>USG%</th>\n",
       "      <th>OWS</th>\n",
       "      <th>DWS</th>\n",
       "      <th>WS</th>\n",
       "      <th>WS/48</th>\n",
       "      <th>OBPM</th>\n",
       "      <th>DBPM</th>\n",
       "      <th>BPM</th>\n",
       "      <th>VORP</th>\n",
       "    </tr>\n",
       "  </thead>\n",
       "  <tbody>\n",
       "    <tr>\n",
       "      <th>0</th>\n",
       "      <td>2015</td>\n",
       "      <td>Quincy Acy</td>\n",
       "      <td>F</td>\n",
       "      <td>24</td>\n",
       "      <td>NYK</td>\n",
       "      <td>52</td>\n",
       "      <td>21</td>\n",
       "      <td>19.2</td>\n",
       "      <td>2.2</td>\n",
       "      <td>4.6</td>\n",
       "      <td>...</td>\n",
       "      <td>15.1</td>\n",
       "      <td>14.7</td>\n",
       "      <td>0.6</td>\n",
       "      <td>0.5</td>\n",
       "      <td>1.0</td>\n",
       "      <td>0.050</td>\n",
       "      <td>-2.6</td>\n",
       "      <td>-0.7</td>\n",
       "      <td>-3.4</td>\n",
       "      <td>-0.3</td>\n",
       "    </tr>\n",
       "    <tr>\n",
       "      <th>1</th>\n",
       "      <td>2015</td>\n",
       "      <td>Jordan Adams</td>\n",
       "      <td>G</td>\n",
       "      <td>20</td>\n",
       "      <td>MEM</td>\n",
       "      <td>18</td>\n",
       "      <td>0</td>\n",
       "      <td>7.3</td>\n",
       "      <td>1.0</td>\n",
       "      <td>2.1</td>\n",
       "      <td>...</td>\n",
       "      <td>15.9</td>\n",
       "      <td>17.7</td>\n",
       "      <td>0.0</td>\n",
       "      <td>0.2</td>\n",
       "      <td>0.2</td>\n",
       "      <td>0.076</td>\n",
       "      <td>-2.3</td>\n",
       "      <td>1.8</td>\n",
       "      <td>-0.5</td>\n",
       "      <td>0.0</td>\n",
       "    </tr>\n",
       "    <tr>\n",
       "      <th>2</th>\n",
       "      <td>2015</td>\n",
       "      <td>Steven Adams</td>\n",
       "      <td>C</td>\n",
       "      <td>21</td>\n",
       "      <td>OKC</td>\n",
       "      <td>51</td>\n",
       "      <td>50</td>\n",
       "      <td>24.2</td>\n",
       "      <td>3.0</td>\n",
       "      <td>5.5</td>\n",
       "      <td>...</td>\n",
       "      <td>19.2</td>\n",
       "      <td>14.8</td>\n",
       "      <td>1.0</td>\n",
       "      <td>1.8</td>\n",
       "      <td>2.8</td>\n",
       "      <td>0.109</td>\n",
       "      <td>-2.0</td>\n",
       "      <td>2.0</td>\n",
       "      <td>-0.1</td>\n",
       "      <td>0.6</td>\n",
       "    </tr>\n",
       "    <tr>\n",
       "      <th>3</th>\n",
       "      <td>2015</td>\n",
       "      <td>Jeff Adrien</td>\n",
       "      <td>F</td>\n",
       "      <td>28</td>\n",
       "      <td>MIN</td>\n",
       "      <td>17</td>\n",
       "      <td>0</td>\n",
       "      <td>12.6</td>\n",
       "      <td>1.1</td>\n",
       "      <td>2.6</td>\n",
       "      <td>...</td>\n",
       "      <td>12.9</td>\n",
       "      <td>14.1</td>\n",
       "      <td>0.2</td>\n",
       "      <td>0.2</td>\n",
       "      <td>0.4</td>\n",
       "      <td>0.093</td>\n",
       "      <td>-2.6</td>\n",
       "      <td>0.8</td>\n",
       "      <td>-1.8</td>\n",
       "      <td>0.0</td>\n",
       "    </tr>\n",
       "    <tr>\n",
       "      <th>4</th>\n",
       "      <td>2015</td>\n",
       "      <td>Arron Afflalo</td>\n",
       "      <td>G</td>\n",
       "      <td>29</td>\n",
       "      <td>TOT</td>\n",
       "      <td>60</td>\n",
       "      <td>54</td>\n",
       "      <td>32.5</td>\n",
       "      <td>5.0</td>\n",
       "      <td>11.8</td>\n",
       "      <td>...</td>\n",
       "      <td>10.9</td>\n",
       "      <td>19.6</td>\n",
       "      <td>1.4</td>\n",
       "      <td>0.7</td>\n",
       "      <td>2.1</td>\n",
       "      <td>0.051</td>\n",
       "      <td>-0.2</td>\n",
       "      <td>-1.4</td>\n",
       "      <td>-1.6</td>\n",
       "      <td>0.2</td>\n",
       "    </tr>\n",
       "  </tbody>\n",
       "</table>\n",
       "<p>5 rows × 49 columns</p>\n",
       "</div>"
      ],
      "text/plain": [
       "   season_end         player pos  age bref_team_id   g  gs    mp   fg   fga  \\\n",
       "0        2015     Quincy Acy   F   24          NYK  52  21  19.2  2.2   4.6   \n",
       "1        2015   Jordan Adams   G   20          MEM  18   0   7.3  1.0   2.1   \n",
       "2        2015   Steven Adams   C   21          OKC  51  50  24.2  3.0   5.5   \n",
       "3        2015    Jeff Adrien   F   28          MIN  17   0  12.6  1.1   2.6   \n",
       "4        2015  Arron Afflalo   G   29          TOT  60  54  32.5  5.0  11.8   \n",
       "\n",
       "   ...   TOV%  USG%  OWS  DWS   WS  WS/48  OBPM  DBPM  BPM  VORP  \n",
       "0  ...   15.1  14.7  0.6  0.5  1.0  0.050  -2.6  -0.7 -3.4  -0.3  \n",
       "1  ...   15.9  17.7  0.0  0.2  0.2  0.076  -2.3   1.8 -0.5   0.0  \n",
       "2  ...   19.2  14.8  1.0  1.8  2.8  0.109  -2.0   2.0 -0.1   0.6  \n",
       "3  ...   12.9  14.1  0.2  0.2  0.4  0.093  -2.6   0.8 -1.8   0.0  \n",
       "4  ...   10.9  19.6  1.4  0.7  2.1  0.051  -0.2  -1.4 -1.6   0.2  \n",
       "\n",
       "[5 rows x 49 columns]"
      ]
     },
     "execution_count": 3,
     "metadata": {},
     "output_type": "execute_result"
    }
   ],
   "source": [
    "nba_df.head()"
   ]
  },
  {
   "cell_type": "markdown",
   "metadata": {},
   "source": [
    "#### #4. Create a histogram of the `age` column."
   ]
  },
  {
   "cell_type": "code",
   "execution_count": 4,
   "metadata": {},
   "outputs": [
    {
     "data": {
      "text/plain": [
       "<matplotlib.axes._subplots.AxesSubplot at 0x11a0464a8>"
      ]
     },
     "execution_count": 4,
     "metadata": {},
     "output_type": "execute_result"
    },
    {
     "data": {
      "image/png": "[encoded data removed]",
      "text/plain": [
       "<Figure size 432x288 with 1 Axes>"
      ]
     },
     "metadata": {
      "needs_background": "light"
     },
     "output_type": "display_data"
    }
   ],
   "source": [
    "nba_df['age'].plot(kind='hist')"
   ]
  },
  {
   "cell_type": "markdown",
   "metadata": {},
   "source": [
    "#### #5. Create a histogram of the `age` column, but change the number of bins to `20`."
   ]
  },
  {
   "cell_type": "code",
   "execution_count": 5,
   "metadata": {},
   "outputs": [
    {
     "data": {
      "text/plain": [
       "<matplotlib.axes._subplots.AxesSubplot at 0x11a09b320>"
      ]
     },
     "execution_count": 5,
     "metadata": {},
     "output_type": "execute_result"
    },
    {
     "data": {
      "image/png": "[encoded data removed]",
      "text/plain": [
       "<Figure size 432x288 with 1 Axes>"
      ]
     },
     "metadata": {
      "needs_background": "light"
     },
     "output_type": "display_data"
    }
   ],
   "source": [
    "nba_df['age'].plot(kind='hist', bins=20)"
   ]
  },
  {
   "cell_type": "markdown",
   "metadata": {},
   "source": [
    "#### #6. Discuss the difference in the two plots and the implications."
   ]
  },
  {
   "cell_type": "markdown",
   "metadata": {},
   "source": [
    "While skewed, the plot with fewer bins leads one to believe that the bin to the right of the highest-numbered age bin is the second largest. The second-largest bin occurs right after 22 and before 25."
   ]
  },
  {
   "cell_type": "markdown",
   "metadata": {},
   "source": [
    "#### #7. Rename the `position` column `'pos'` with the following `C:5`, `G:1`, and `F:3`. Then create a scatter matrix plot with the `'pos'`, `'pts'`, `'age'`, and `'fg'` columns."
   ]
  },
  {
   "cell_type": "code",
   "execution_count": 21,
   "metadata": {},
   "outputs": [],
   "source": [
    "# I tried googling the apply() method and found some stuff but couldn't figure out how to\n",
    "# apply it! PUN INTENDED. HA. Minus 5 points for corny puns!!\n",
    "\n",
    "# nba_df['pos'].apply()\n"
   ]
  },
  {
   "cell_type": "code",
   "execution_count": null,
   "metadata": {},
   "outputs": [],
   "source": []
  },
  {
   "cell_type": "markdown",
   "metadata": {},
   "source": [
    "#### #8. Plot the number of guards, centers, and forwards in this data set."
   ]
  },
  {
   "cell_type": "code",
   "execution_count": 32,
   "metadata": {},
   "outputs": [
    {
     "data": {
      "text/plain": [
       "<matplotlib.axes._subplots.AxesSubplot at 0x11b0e7278>"
      ]
     },
     "execution_count": 32,
     "metadata": {},
     "output_type": "execute_result"
    },
    {
     "data": {
      "image/png": "[encoded data removed]",
      "text/plain": [
       "<Figure size 432x288 with 1 Axes>"
      ]
     },
     "metadata": {
      "needs_background": "light"
     },
     "output_type": "display_data"
    }
   ],
   "source": [
    "nba_df['pos'].value_counts().plot(kind='bar')\n",
    "\n",
    "# this seems right...I think. lol"
   ]
  },
  {
   "cell_type": "markdown",
   "metadata": {},
   "source": [
    "The end!"
   ]
  },
  {
   "cell_type": "markdown",
   "metadata": {},
   "source": [
    "#### Great job!"
   ]
  }
 ],
 "metadata": {
  "kernelspec": {
   "display_name": "Python 3",
   "language": "python",
   "name": "python3"
  },
  "language_info": {
   "codemirror_mode": {
    "name": "ipython",
    "version": 3
   },
   "file_extension": ".py",
   "mimetype": "text/x-python",
   "name": "python",
   "nbconvert_exporter": "python",
   "pygments_lexer": "ipython3",
   "version": "3.7.1"
  }
 },
 "nbformat": 4,
 "nbformat_minor": 2
}
